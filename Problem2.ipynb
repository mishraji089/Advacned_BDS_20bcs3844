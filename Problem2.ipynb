{
  "nbformat": 4,
  "nbformat_minor": 0,
  "metadata": {
    "colab": {
      "provenance": []
    },
    "kernelspec": {
      "name": "python3",
      "display_name": "Python 3"
    },
    "language_info": {
      "name": "python"
    }
  },
  "cells": [
    {
      "cell_type": "code",
      "execution_count": 1,
      "metadata": {
        "colab": {
          "base_uri": "https://localhost:8080/"
        },
        "id": "ROe2ATs5yS1h",
        "outputId": "56a0fc3f-556a-4024-ca3c-ebb7b627a169"
      },
      "outputs": [
        {
          "output_type": "stream",
          "name": "stdout",
          "text": [
            "Collecting pycryptodome\n",
            "  Downloading pycryptodome-3.20.0-cp35-abi3-manylinux_2_17_x86_64.manylinux2014_x86_64.whl (2.1 MB)\n",
            "\u001b[2K     \u001b[90m━━━━━━━━━━━━━━━━━━━━━━━━━━━━━━━━━━━━━━━━\u001b[0m \u001b[32m2.1/2.1 MB\u001b[0m \u001b[31m9.5 MB/s\u001b[0m eta \u001b[36m0:00:00\u001b[0m\n",
            "\u001b[?25hInstalling collected packages: pycryptodome\n",
            "Successfully installed pycryptodome-3.20.0\n"
          ]
        }
      ],
      "source": [
        "pip install pycryptodome\n"
      ]
    },
    {
      "cell_type": "code",
      "source": [
        "from Crypto.PublicKey import RSA\n",
        "from Crypto.Cipher import PKCS1_OAEP\n",
        "\n",
        "class AsymmetricMessagingApp:\n",
        "    def __init__(self):\n",
        "        self.private_key = None\n",
        "        self.public_key = None\n",
        "\n",
        "    def generate_key_pair(self):\n",
        "        key = RSA.generate(2048)\n",
        "        self.private_key = key.export_key()\n",
        "        self.public_key = key.publickey().export_key()\n",
        "\n",
        "    def load_public_key(self, public_key):\n",
        "        self.public_key = RSA.import_key(public_key)\n",
        "\n",
        "    def encrypt_message(self, message):\n",
        "        cipher_rsa = PKCS1_OAEP.new(RSA.import_key(self.public_key))\n",
        "        encrypted_message = cipher_rsa.encrypt(message.encode())\n",
        "        return encrypted_message\n",
        "\n",
        "    def decrypt_message(self, encrypted_message):\n",
        "        cipher_rsa = PKCS1_OAEP.new(RSA.import_key(self.private_key))\n",
        "        decrypted_message = cipher_rsa.decrypt(encrypted_message)\n",
        "        return decrypted_message.decode()\n",
        "\n",
        "if __name__ == \"__main__\":\n",
        "    app = AsymmetricMessagingApp()\n",
        "\n",
        "    # Generate key pair\n",
        "    app.generate_key_pair()\n",
        "\n",
        "    # Simulate sending public key over a secure channel (e.g., HTTPS)\n",
        "    public_key = app.public_key\n",
        "\n",
        "    # Alice's side\n",
        "    alice_message = \"Hello Bob!\"\n",
        "    encrypted_message = app.encrypt_message(alice_message)\n",
        "    print(\"Alice sends encrypted message to Bob:\", encrypted_message)\n",
        "\n",
        "    # Bob's side\n",
        "    # Bob loads Alice's public key\n",
        "    app.load_public_key(public_key)\n",
        "    decrypted_message = app.decrypt_message(encrypted_message)\n",
        "    print(\"Bob decrypts the message:\", decrypted_message)"
      ],
      "metadata": {
        "colab": {
          "base_uri": "https://localhost:8080/"
        },
        "id": "o3SehOity5HE",
        "outputId": "afa83076-9ec4-4cb9-a742-fde494e27143"
      },
      "execution_count": 3,
      "outputs": [
        {
          "output_type": "stream",
          "name": "stdout",
          "text": [
            "Alice sends encrypted message to Bob: b\"y\\xb55\\xd8z\\xa5z\\x12q\\x97\\xb3\\xe1\\xda\\x89&\\xa4R\\xd4\\xab\\x8b\\xa4\\x1c\\xff.\\xfd\\t\\xa5\\t\\xb2\\x90\\x19W\\x07\\xd5\\x96Nv%;\\xd0\\x1eb\\x14p\\xe7\\xf9\\x1b\\xf7a\\xb7\\x9a\\xe9@\\x00\\xcb\\xb0\\xe5\\xa8,q\\xb6\\xa4\\xb6\\xf4\\x87\\xf3\\xeb\\x8f\\xe4\\xdc\\xebQ'O\\x8b\\xbdMV\\xf1I[\\x1c\\x1f\\xa9\\x18\\x8f;\\xda\\x1f\\x17\\xc0\\xdd\\xff\\x8e\\xd2\\xc8\\x80M\\xc0\\x81\\xc3\\xa4t\\xe2u\\r9\\xa8\\xae\\xfa[@\\xf3\\x99\\xd5\\x04\\xad]\\xb1\\xc5\\x18vuf\\xc5-s\\xc5\\x89\\x89]\\x8e\\xac\\x85\\xa5sw\\x83\\xa5\\xebs\\xc1\\x8a\\xf5\\xfb\\x87\\xbc\\x03V\\x89\\x10\\xb7j~39\\x82\\xf5[r6\\xed\\xef\\xf9Pf\\x00\\xbf\\x9dwS[\\xde\\xbff\\n\\x07\\x01\\x0b\\xaa\\xd4\\xfa\\xd7\\xc1&\\x95Z\\xda\\xb6\\xf0\\x17\\xd1\\x97\\xf9\\xe4Dw\\x97Kl`\\x95\\xc5.z\\x0f\\xb9A\\xca\\xf5e-\\x06\\x9f\\x05LdRJ\\xf5\\x98{\\x04\\xe3l4\\x06\\x9bIz$\\xc1o\\xc0\\xbd\\x82m\\xa8?\\xc5\\x8fi\\xb4\\xaabT\\xabi\\x9e\\xe5\\xac\\xea\\x1a.R\\xbc\"\n",
            "Bob decrypts the message: Hello Bob!\n"
          ]
        }
      ]
    },
    {
      "cell_type": "code",
      "source": [],
      "metadata": {
        "id": "_tfmoCx5zEni"
      },
      "execution_count": null,
      "outputs": []
    }
  ]
}