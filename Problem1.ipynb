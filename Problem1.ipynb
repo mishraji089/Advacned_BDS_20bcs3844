{
  "nbformat": 4,
  "nbformat_minor": 0,
  "metadata": {
    "colab": {
      "provenance": []
    },
    "kernelspec": {
      "name": "python3",
      "display_name": "Python 3"
    },
    "language_info": {
      "name": "python"
    }
  },
  "cells": [
    {
      "cell_type": "code",
      "source": [
        "import os\n",
        "from Crypto.Cipher import AES\n",
        "from Crypto.Random import get_random_bytes\n",
        "from Crypto.Util.Padding import pad, unpad\n",
        "\n",
        "def generate_key():\n",
        "    return get_random_bytes(16)  # 16 bytes for AES-128, change to 24 or 32 for AES-192 or AES-256 respectively\n",
        "\n",
        "def encrypt_file(file_path, key, mode):\n",
        "    cipher = AES.new(key, mode)\n",
        "    with open(file_path, 'rb') as f:\n",
        "        plaintext = f.read()\n",
        "        ciphertext = cipher.encrypt(pad(plaintext, AES.block_size))\n",
        "    with open(file_path + '.enc', 'wb') as f:\n",
        "        f.write(ciphertext)\n",
        "    print(\"File encrypted successfully.\")\n",
        "\n",
        "def decrypt_file(file_path, key, mode):\n",
        "    cipher = AES.new(key, mode)\n",
        "    with open(file_path, 'rb') as f:\n",
        "        ciphertext = f.read()\n",
        "        plaintext = unpad(cipher.decrypt(ciphertext), AES.block_size)\n",
        "    with open(file_path[:-4], 'wb') as f:\n",
        "        f.write(plaintext)\n",
        "    print(\"File decrypted successfully.\")\n",
        "\n",
        "def main():\n",
        "    file_path = input(\"Enter file path: \")\n",
        "    if not os.path.exists(file_path):\n",
        "        print(\"File not found.\")\n",
        "        return\n",
        "\n",
        "    key = generate_key()\n",
        "\n",
        "    mode = input(\"Enter encryption mode (ECB, CBC, CFB, OFB): \").upper()\n",
        "    if mode not in ['ECB', 'CBC', 'CFB', 'OFB']:\n",
        "        print(\"Invalid encryption mode.\")\n",
        "        return\n",
        "\n",
        "    if mode == 'ECB':\n",
        "        mode = AES.MODE_ECB\n",
        "    elif mode == 'CBC':\n",
        "        mode = AES.MODE_CBC\n",
        "    elif mode == 'CFB':\n",
        "        mode = AES.MODE_CFB\n",
        "    elif mode == 'OFB':\n",
        "        mode = AES.MODE_OFB\n",
        "\n",
        "    choice = input(\"Enter 'E' to encrypt or 'D' to decrypt: \").upper()\n",
        "    if choice == 'E':\n",
        "        encrypt_file(file_path, key, mode)\n",
        "    elif choice == 'D':\n",
        "        decrypt_file(file_path, key, mode)\n",
        "    else:\n",
        "        print(\"Invalid choice.\")\n",
        "\n",
        "if __name__ == \"__main__\":\n",
        "    main()\n"
      ],
      "metadata": {
        "colab": {
          "base_uri": "https://localhost:8080/"
        },
        "id": "m45x6xeeP2d2",
        "outputId": "73620685-2086-414e-925b-a66fce9a871a"
      },
      "execution_count": 6,
      "outputs": [
        {
          "output_type": "stream",
          "name": "stdout",
          "text": [
            "Enter file path: /content/bit manipulation..txt\n",
            "Enter encryption mode (ECB, CBC, CFB, OFB): CFB\n",
            "Enter 'E' to encrypt or 'D' to decrypt: E\n",
            "File encrypted successfully.\n"
          ]
        }
      ]
    },
    {
      "cell_type": "code",
      "source": [],
      "metadata": {
        "id": "iwhaXGVlP22Q"
      },
      "execution_count": null,
      "outputs": []
    }
  ]
}